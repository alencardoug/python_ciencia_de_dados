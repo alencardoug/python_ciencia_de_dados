{
 "cells": [
  {
   "cell_type": "markdown",
   "metadata": {},
   "source": [
    "# Formatação de strings"
   ]
  },
  {
   "cell_type": "markdown",
   "metadata": {},
   "source": [
    "## Método format"
   ]
  },
  {
   "cell_type": "markdown",
   "metadata": {},
   "source": [
    "Forma introduzida no Python 3.0 e que possui mais flexibilidade e legibilidade que a maneira apresentada anteriormente.\n",
    "\n",
    "Tendo apenas uma inserção, fica:"
   ]
  },
  {
   "cell_type": "code",
   "execution_count": 1,
   "metadata": {},
   "outputs": [
    {
     "name": "stdout",
     "output_type": "stream",
     "text": [
      "Vai entrar um texto aqui.\n"
     ]
    }
   ],
   "source": [
    "print(\"Vai entrar um texto {}.\".format(\"aqui\"))"
   ]
  },
  {
   "cell_type": "markdown",
   "metadata": {},
   "source": [
    "Uma grande melhoria do `format` é poder escolher a ordem de inserção e trabalhar com variáveis:"
   ]
  },
  {
   "cell_type": "code",
   "execution_count": 2,
   "metadata": {},
   "outputs": [
    {
     "name": "stdout",
     "output_type": "stream",
     "text": [
      "Controlando a ordem!\n",
      "Primeiro: 1; Segundo: 2; Terceiro: 12.3\n",
      "A variável (oi!) pode ser reutilizada: (oi!).\n"
     ]
    }
   ],
   "source": [
    "print(\"Controlando {2} {1}{0}\".format(\"!\", \"ordem\", \"a\"))\n",
    "\n",
    "print(\"Primeiro: {a}; Segundo: {b}; Terceiro: {c}\".format(a=1, b=\"2\", c=12.3))\n",
    "\n",
    "print(\"A variável {p} pode ser reutilizada: {p}.\".format(p=\"(oi!)\"))"
   ]
  },
  {
   "cell_type": "markdown",
   "metadata": {},
   "source": [
    "É possível também inserir valores com base em uma tupla a partir do unpacking da mesma:"
   ]
  },
  {
   "cell_type": "code",
   "execution_count": 3,
   "metadata": {},
   "outputs": [
    {
     "name": "stdout",
     "output_type": "stream",
     "text": [
      "Primeiro: 1; Segundo: 2; Terceiro: 3\n"
     ]
    }
   ],
   "source": [
    "tupla = (1, 2, 3)\n",
    "\n",
    "print(\"Primeiro: {}; Segundo: {}; Terceiro: {}\".format(*tupla))"
   ]
  },
  {
   "cell_type": "markdown",
   "metadata": {},
   "source": [
    "Pode-se, inclusive, usar chaves de dicionários através de *unpack* como no exemplo a seguir:"
   ]
  },
  {
   "cell_type": "code",
   "execution_count": 4,
   "metadata": {},
   "outputs": [
    {
     "name": "stdout",
     "output_type": "stream",
     "text": [
      "Olá, Francisco. Você é especialista em Ciência de Dados.\n"
     ]
    }
   ],
   "source": [
    "pessoa = {\"nome\": \"Francisco\", \"especialidade\": \"Ciência de Dados\"}\n",
    "\n",
    "print(\"Olá, {nome}. Você é especialista em {especialidade}.\".format(**pessoa))"
   ]
  },
  {
   "cell_type": "markdown",
   "metadata": {},
   "source": [
    "### Alinhamento"
   ]
  },
  {
   "cell_type": "markdown",
   "metadata": {},
   "source": [
    "Com o `format` houve um grande avanço nas possibilidades de exibir saída em texto. A seguir, vemos como podemos indicar o espaço a ser ocupado por cada inserção:"
   ]
  },
  {
   "cell_type": "code",
   "execution_count": 5,
   "metadata": {},
   "outputs": [
    {
     "name": "stdout",
     "output_type": "stream",
     "text": [
      "Nome             | Especialidade\n",
      "Francisco        | Ciência de Dados\n",
      "Lira             | Python\n",
      "Erro             |     0\n"
     ]
    }
   ],
   "source": [
    "print(\"{0:16} | {1:5}\".format(\"Nome\", \"Especialidade\"))\n",
    "print(\"{0:16} | {1:5}\".format(\"Francisco\", \"Ciência de Dados\"))\n",
    "print(\"{0:16} | {1:5}\".format(\"Lira\", \"Python\"))\n",
    "print(\"{0:16} | {1:5}\".format(\"Erro\", 0))"
   ]
  },
  {
   "cell_type": "markdown",
   "metadata": {},
   "source": [
    "Veja como os valores numéricos se alinharam à direita, enquanto que as strings se alinharam à esquerda. É possível controlar o alinhamento da seguinte forma:"
   ]
  },
  {
   "cell_type": "code",
   "execution_count": 6,
   "metadata": {},
   "outputs": [
    {
     "name": "stdout",
     "output_type": "stream",
     "text": [
      "Esquerda |  Centro  |  Direita\n",
      "11       |    22    |       33\n"
     ]
    }
   ],
   "source": [
    "print(\"{0:<8} | {1:^8} | {2:>8}\".format(\"Esquerda\", \"Centro\", \"Direita\"))\n",
    "print(\"{0:<8} | {1:^8} | {2:>8}\".format(11, 22, 33))"
   ]
  },
  {
   "cell_type": "markdown",
   "metadata": {},
   "source": [
    "Também é possível preencher o espaço com algum caractere:"
   ]
  },
  {
   "cell_type": "code",
   "execution_count": 7,
   "metadata": {},
   "outputs": [
    {
     "name": "stdout",
     "output_type": "stream",
     "text": [
      "Esquerda | -Centro- | .Direita\n",
      "11====== | ---22--- | ......33\n"
     ]
    }
   ],
   "source": [
    "print(\"{0:=<8} | {1:-^8} | {2:.>8}\".format(\"Esquerda\", \"Centro\", \"Direita\"))\n",
    "print(\"{0:=<8} | {1:-^8} | {2:.>8}\".format(11, 22, 33))"
   ]
  },
  {
   "cell_type": "markdown",
   "metadata": {},
   "source": [
    "As informações de alinhamento e de tamanho também podem ser passadas como parâmetros:"
   ]
  },
  {
   "cell_type": "code",
   "execution_count": 8,
   "metadata": {},
   "outputs": [
    {
     "name": "stdout",
     "output_type": "stream",
     "text": [
      "\"  texto   \"\n"
     ]
    }
   ],
   "source": [
    "print('\"{:{align}{width}}\"'.format(\"texto\", align=\"^\", width=\"10\"))"
   ]
  },
  {
   "cell_type": "markdown",
   "metadata": {},
   "source": [
    "### Lidando com números"
   ]
  },
  {
   "cell_type": "markdown",
   "metadata": {},
   "source": [
    "Muito similar ao visto na utilização do marcador de posição:"
   ]
  },
  {
   "cell_type": "code",
   "execution_count": 9,
   "metadata": {},
   "outputs": [
    {
     "name": "stdout",
     "output_type": "stream",
     "text": [
      "10 caracteres e 2 casas decimais:     13.58\n"
     ]
    }
   ],
   "source": [
    "print(\"10 caracteres e 2 casas decimais:{:10.2f}\".format(13.579))"
   ]
  },
  {
   "cell_type": "markdown",
   "metadata": {},
   "source": [
    "E aqui também se pode utilizar parâmetros:"
   ]
  },
  {
   "cell_type": "code",
   "execution_count": 10,
   "metadata": {},
   "outputs": [
    {
     "name": "stdout",
     "output_type": "stream",
     "text": [
      "10 caracteres e 2 casas decimais:    +13.58\n"
     ]
    }
   ],
   "source": [
    "print(\"10 caracteres e 2 casas decimais:{:{sign}{width}.{prec}f}\".format(13.579, width=10, prec=2, sign=\"+\"))"
   ]
  },
  {
   "cell_type": "markdown",
   "metadata": {},
   "source": [
    "Para saber mais [veja a documentação do `format`](https://docs.python.org/3/library/string.html#format-string-syntax)."
   ]
  }
 ],
 "metadata": {
  "interpreter": {
   "hash": "586ad1ed5c97141e2437e681efbf1ec0adcd17d830cf5af2ca3d2819e743e158"
  },
  "kernelspec": {
   "display_name": "Python 3.9.7 ('base')",
   "language": "python",
   "name": "python3"
  },
  "language_info": {
   "codemirror_mode": {
    "name": "ipython",
    "version": 3
   },
   "file_extension": ".py",
   "mimetype": "text/x-python",
   "name": "python",
   "nbconvert_exporter": "python",
   "pygments_lexer": "ipython3",
   "version": "3.10.13"
  },
  "orig_nbformat": 4
 },
 "nbformat": 4,
 "nbformat_minor": 2
}
