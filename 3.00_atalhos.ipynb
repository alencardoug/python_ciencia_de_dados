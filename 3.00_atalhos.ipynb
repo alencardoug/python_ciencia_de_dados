{
 "cells": [
  {
   "cell_type": "markdown",
   "id": "620c8da5-50c3-4635-8a9a-5ae06e8582f6",
   "metadata": {},
   "source": [
    "# Atalhos úteis"
   ]
  },
  {
   "cell_type": "markdown",
   "id": "521629b5-da29-4021-83ee-e17207909eeb",
   "metadata": {},
   "source": [
    "#### Caixa Code para Markdown:\n",
    " Esc + M + Enter\n",
    "#### Caixa Markdown para Code:\n",
    " Esc + Y + Enter "
   ]
  },
  {
   "cell_type": "markdown",
   "id": "a25e5d1f-f52d-46e2-bc2c-020f9d4c51fc",
   "metadata": {
    "tags": []
   },
   "source": [
    "#### Executar (Code ou Markdown):\n",
    "CTRL + Enter\n",
    "#### Executar criando célula abaixo:\n",
    "SHIFT + Enter"
   ]
  },
  {
   "cell_type": "markdown",
   "id": "c1fca903-e690-4ec1-9894-7194ab679d10",
   "metadata": {
    "tags": []
   },
   "source": [
    "#### Mover entre caixas:\n",
    "Seta cima e Seta baixo"
   ]
  },
  {
   "cell_type": "markdown",
   "id": "490cfd4d-948c-4d09-a7fc-8fbeaeff417c",
   "metadata": {},
   "source": [
    "#### Criar caixa acima:\n",
    "A\n",
    "#### Criar caixa abaixo:\n",
    "B\n",
    "#### Deletar caixa:\n",
    "DD"
   ]
  }
 ],
 "metadata": {
  "kernelspec": {
   "display_name": "Python 3 (ipykernel)",
   "language": "python",
   "name": "python3"
  },
  "language_info": {
   "codemirror_mode": {
    "name": "ipython",
    "version": 3
   },
   "file_extension": ".py",
   "mimetype": "text/x-python",
   "name": "python",
   "nbconvert_exporter": "python",
   "pygments_lexer": "ipython3",
   "version": "3.11.5"
  }
 },
 "nbformat": 4,
 "nbformat_minor": 5
}
