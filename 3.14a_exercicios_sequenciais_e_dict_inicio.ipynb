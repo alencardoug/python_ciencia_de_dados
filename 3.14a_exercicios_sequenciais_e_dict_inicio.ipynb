{
 "cells": [
  {
   "cell_type": "markdown",
   "metadata": {},
   "source": [
    "## Exercício 1: Acessando Dados de Vendas\n",
    "\n",
    "Dada uma tupla que armazena as vendas mensais de um produto `vendas = (120, 130, 150, 140, 135)`, calcule a venda total do segundo e terceiro mês e imprima o resultado.\n"
   ]
  },
  {
   "cell_type": "code",
   "execution_count": 13,
   "metadata": {},
   "outputs": [
    {
     "name": "stdout",
     "output_type": "stream",
     "text": [
      "Venda total do segundo e terceiro mês: 280\n"
     ]
    }
   ],
   "source": [
    "vendas = (120, 130, 150, 140, 135)\n",
    "print(\"Venda total do segundo e terceiro mês:\", sum(vendas[1:3]))"
   ]
  },
  {
   "cell_type": "markdown",
   "metadata": {},
   "source": [
    "## Exercício 2: Fatiamento de Lista de Funcionários\n",
    "\n",
    "**Descrição**: Dada uma lista de nomes de funcionários `funcionarios = [\"Ana\", \"Marcos\", \"Felipe\", \"José\", \"Mariana\"]`, obtenha uma sublista com os nomes do segundo ao quarto funcionário e imprima essa sublista.\n",
    "\n"
   ]
  },
  {
   "cell_type": "code",
   "execution_count": 7,
   "metadata": {},
   "outputs": [
    {
     "name": "stdout",
     "output_type": "stream",
     "text": [
      "['Marcos', 'Felipe', 'José']\n"
     ]
    }
   ],
   "source": [
    "funcionarios = [\"Ana\", \"Marcos\", \"Felipe\", \"José\", \"Mariana\"]\n",
    "print(funcionarios[1:4])"
   ]
  },
  {
   "cell_type": "markdown",
   "metadata": {},
   "source": [
    "## Exercício 3: Convertendo Lista em Dicionário\n",
    "\n",
    "Dada uma lista de pares representando funcionários e seus respectivos departamentos `pares = [(\"Ana\", \"Vendas\"), (\"Luís\", \"TI\"), (\"Clara\", \"RH\")]`, converta esta lista em um dicionário onde as chaves são os nomes dos funcionários e os valores são seus departamentos."
   ]
  },
  {
   "cell_type": "code",
   "execution_count": 8,
   "metadata": {},
   "outputs": [
    {
     "data": {
      "text/plain": [
       "{'Ana': 'Vendas', 'Luís': 'TI', 'Clara': 'RH'}"
      ]
     },
     "execution_count": 8,
     "metadata": {},
     "output_type": "execute_result"
    }
   ],
   "source": [
    "pares = [(\"Ana\", \"Vendas\"), (\"Luís\", \"TI\"), (\"Clara\", \"RH\")]\n",
    "dict(pares)"
   ]
  },
  {
   "cell_type": "markdown",
   "metadata": {},
   "source": [
    "## Exercício 4: Atualizando Lista de Contatos\n",
    "\n",
    "Uma empresa mantém uma lista de emails de contatos em uma lista Python. Adicione um novo contato \"novo.contato@empresa.com\" à lista `emails = [\"contato1@empresa.com\", \"contato2@empresa.com\"]` e remova \"contato1@empresa.com\".\n",
    "\n",
    "Dica: pesquise sobre os [métodos de listas](https://docs.python.org/3/tutorial/datastructures.html#more-on-lists) `append` e `remove`.\n",
    "\n"
   ]
  },
  {
   "cell_type": "code",
   "execution_count": 10,
   "metadata": {},
   "outputs": [
    {
     "name": "stdout",
     "output_type": "stream",
     "text": [
      "['contato2@empresa.com', 'novo.contato@empresa.com']\n"
     ]
    }
   ],
   "source": [
    "emails = [\"contato1@empresa.com\", \"contato2@empresa.com\"]\n",
    "emails.append(\"novo.contato@empresa.com\")\n",
    "emails.remove(\"contato1@empresa.com\")\n",
    "print(emails)"
   ]
  },
  {
   "cell_type": "markdown",
   "metadata": {},
   "source": [
    "## Exercício 5: Contagem de Itens Vendidos\n",
    "\n",
    "Após uma promoção, uma empresa registrou os itens vendidos em uma lista `itens_vendidos = [\"caneta\", \"lápis\", \"caneta\", \"borracha\", \"lápis\", \"caneta\"]`. Conte quantas vezes cada item foi vendido e armazene os resultados em um dicionário.\n",
    "\n",
    "Dica: pesquise sobre o método `count` de listas Python"
   ]
  },
  {
   "cell_type": "code",
   "execution_count": 11,
   "metadata": {},
   "outputs": [
    {
     "name": "stdout",
     "output_type": "stream",
     "text": [
      "{'caneta': 3, 'lápis': 2, 'borracha': 1}\n"
     ]
    }
   ],
   "source": [
    "itens_vendidos = [\"caneta\", \"lápis\", \"caneta\", \"borracha\", \"lápis\", \"caneta\"]\n",
    "inventario = {\n",
    "    \"caneta\": itens_vendidos.count(\"caneta\"),\n",
    "    \"lápis\": itens_vendidos.count(\"lápis\"),\n",
    "    \"borracha\": itens_vendidos.count(\"borracha\")\n",
    "}\n",
    "print(inventario)"
   ]
  },
  {
   "cell_type": "code",
   "execution_count": null,
   "metadata": {},
   "outputs": [],
   "source": []
  }
 ],
 "metadata": {
  "kernelspec": {
   "display_name": "base",
   "language": "python",
   "name": "python3"
  },
  "language_info": {
   "codemirror_mode": {
    "name": "ipython",
    "version": 3
   },
   "file_extension": ".py",
   "mimetype": "text/x-python",
   "name": "python",
   "nbconvert_exporter": "python",
   "pygments_lexer": "ipython3",
   "version": "3.11.5"
  }
 },
 "nbformat": 4,
 "nbformat_minor": 2
}
