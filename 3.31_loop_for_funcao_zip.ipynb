{
 "cells": [
  {
   "cell_type": "markdown",
   "metadata": {},
   "source": [
    "# Loop for - função zip"
   ]
  },
  {
   "cell_type": "markdown",
   "metadata": {},
   "source": [
    "A função `zip` em Python é outra ferramenta útil, especialmente quando você está trabalhando com múltiplas sequências de dados, como listas ou tuplas. Vamos entender como ela funciona e como pode ser aplicada:\n",
    "\n",
    "1. **O que faz**: A função `zip` combina ou \"zipeia\" dois ou mais iteráveis (como listas ou tuplas) e os retorna como um objeto `zip`. Este objeto é um iterador de tuplas, onde a primeira tupla contém o primeiro item de cada iterável, a segunda tupla contém o segundo item, e assim por diante.\n",
    "\n",
    "2. **Por que é útil**: `zip` é particularmente útil quando você tem dados relacionados em diferentes sequências e precisa acessá-los de forma pareada ou agrupada. \n",
    "\n",
    "3. **Sintaxe Básica**:\n",
    "   ```python\n",
    "   zip(iterável1, iterável2, ...)\n",
    "   ```\n",
    "   Aqui, `iterável1`, `iterável2`, etc., são coleções de itens (como listas ou tuplas) que você deseja combinar.\n"
   ]
  },
  {
   "cell_type": "markdown",
   "metadata": {},
   "source": [
    "4. **Exemplo Prático**: Suponha que você tenha duas listas - uma com nomes de alunos e outra com suas respectivas notas. \n",
    "\n",
    "   Sem `zip`, você teria que acessar os elementos correspondentes de cada lista separadamente:\n",
    "   ```python\n",
    "   nomes = ['Ana', 'Bruno', 'Carlos']\n",
    "   notas = [8.5, 7.0, 9.0]\n",
    "   for i in range(len(nomes)):\n",
    "       print(nomes[i], notas[i])\n",
    "   ```\n",
    "\n",
    "   Com `zip`, você pode fazer isso de uma maneira mais eficiente:\n",
    "   ```python\n",
    "   nomes = ['Ana', 'Bruno', 'Carlos']\n",
    "   notas = [8.5, 7.0, 9.0]\n",
    "   for nome, nota in zip(nomes, notas):\n",
    "       print(nome, nota)\n",
    "   ```\n",
    "\n",
    "   Isso imprimirá:\n",
    "   ```\n",
    "   Ana 8.5\n",
    "   Bruno 7.0\n",
    "   Carlos 9.0\n",
    "   ```\n"
   ]
  },
  {
   "cell_type": "code",
   "execution_count": 1,
   "metadata": {},
   "outputs": [
    {
     "name": "stdout",
     "output_type": "stream",
     "text": [
      "Ana 8.5\n",
      "Bruno 7.0\n",
      "Carlos 9.0\n"
     ]
    }
   ],
   "source": [
    "nomes = ['Ana', 'Bruno', 'Carlos']\n",
    "notas = [8.5, 7.0, 9.0]\n",
    "for i in range(len(nomes)):\n",
    "    print(nomes[i], notas[i])"
   ]
  },
  {
   "cell_type": "code",
   "execution_count": 2,
   "metadata": {},
   "outputs": [
    {
     "name": "stdout",
     "output_type": "stream",
     "text": [
      "Ana 8.5\n",
      "Bruno 7.0\n",
      "Carlos 9.0\n"
     ]
    }
   ],
   "source": [
    "nomes = ['Ana', 'Bruno', 'Carlos']\n",
    "notas = [8.5, 7.0, 9.0]\n",
    "for nome, nota in zip(nomes, notas):\n",
    "    print(nome, nota)"
   ]
  },
  {
   "cell_type": "markdown",
   "metadata": {},
   "source": [
    "5. **Aplicações Comuns**:\n",
    "   - **Combinando Dados Relacionados**: Útil para parear itens de diferentes listas que estão relacionados.\n",
    "   - **Looping Paralelo**: `zip` permite que você itere sobre mais de uma lista ao mesmo tempo.\n",
    "\n",
    "6. **Limitações**:\n",
    "   - O iterador produzido por `zip` vai até o comprimento do menor iterável. Se um iterável for mais longo, seus itens extras não serão incluídos.\n",
    "\n",
    "7. **Vantagens**:\n",
    "   - **Simplicidade e Elegância**: Torna o código mais limpo e fácil de entender.\n",
    "   - **Flexibilidade**: Pode ser usado com qualquer número de iteráveis."
   ]
  },
  {
   "cell_type": "code",
   "execution_count": 3,
   "metadata": {},
   "outputs": [
    {
     "data": {
      "text/plain": [
       "<zip at 0x2de1bacc080>"
      ]
     },
     "execution_count": 3,
     "metadata": {},
     "output_type": "execute_result"
    }
   ],
   "source": [
    "nomes = ['Ana', 'Bruno', 'Carlos']\n",
    "notas = [8.5, 7.0, 9.0]\n",
    "\n",
    "zip(nomes, notas)"
   ]
  },
  {
   "cell_type": "code",
   "execution_count": 4,
   "metadata": {},
   "outputs": [
    {
     "data": {
      "text/plain": [
       "[('Ana', 8.5), ('Bruno', 7.0), ('Carlos', 9.0)]"
      ]
     },
     "execution_count": 4,
     "metadata": {},
     "output_type": "execute_result"
    }
   ],
   "source": [
    "list(zip(nomes, notas))"
   ]
  },
  {
   "cell_type": "code",
   "execution_count": 5,
   "metadata": {},
   "outputs": [
    {
     "data": {
      "text/plain": [
       "(('Ana', 8.5), ('Bruno', 7.0), ('Carlos', 9.0))"
      ]
     },
     "execution_count": 5,
     "metadata": {},
     "output_type": "execute_result"
    }
   ],
   "source": [
    "tuple(zip(nomes, notas))"
   ]
  },
  {
   "cell_type": "code",
   "execution_count": 6,
   "metadata": {},
   "outputs": [
    {
     "name": "stdout",
     "output_type": "stream",
     "text": [
      "('Ana', 8.5)\n",
      "('Bruno', 7.0)\n",
      "('Carlos', 9.0)\n"
     ]
    }
   ],
   "source": [
    "for tupla in zip(nomes, notas):\n",
    "    print(tupla)"
   ]
  },
  {
   "cell_type": "code",
   "execution_count": 7,
   "metadata": {},
   "outputs": [
    {
     "name": "stdout",
     "output_type": "stream",
     "text": [
      "Ana 8.5\n",
      "Bruno 7.0\n",
      "Carlos 9.0\n"
     ]
    }
   ],
   "source": [
    "for nome, nota in zip(nomes, notas):\n",
    "    print(nome, nota)"
   ]
  },
  {
   "cell_type": "code",
   "execution_count": 8,
   "metadata": {},
   "outputs": [
    {
     "name": "stdout",
     "output_type": "stream",
     "text": [
      "Segunda-feira 1500\n",
      "Terça-feira 1200\n",
      "Quarta-feira 1600\n",
      "Quinta-feira 1800\n",
      "Sexta-feira 2000\n",
      "Sábado 1900\n",
      "Domingo 1400\n"
     ]
    }
   ],
   "source": [
    "vendas_diarias = [1500, 1200, 1600, 1800, 2000, 1900, 1400]  # Vendas de segunda a domingo\n",
    "\n",
    "dias_da_semana = [\"Segunda-feira\", \"Terça-feira\", \"Quarta-feira\", \"Quinta-feira\", \"Sexta-feira\", \"Sábado\", \"Domingo\"]\n",
    "\n",
    "for dia, venda in zip(dias_da_semana, vendas_diarias):\n",
    "    print(dia, venda)"
   ]
  },
  {
   "cell_type": "code",
   "execution_count": 9,
   "metadata": {},
   "outputs": [
    {
     "name": "stdout",
     "output_type": "stream",
     "text": [
      "Segunda-feira: R$1500.00\n",
      "Terça-feira: R$1200.00\n",
      "Quarta-feira: R$1600.00\n",
      "Quinta-feira: R$1800.00\n",
      "Sexta-feira: R$2000.00\n",
      "Sábado: R$1900.00\n",
      "Domingo: R$1400.00\n"
     ]
    }
   ],
   "source": [
    "for dia, venda in zip(dias_da_semana, vendas_diarias):\n",
    "    print(f\"{dia}: R${venda:.2f}\")"
   ]
  },
  {
   "cell_type": "code",
   "execution_count": 10,
   "metadata": {},
   "outputs": [
    {
     "name": "stdout",
     "output_type": "stream",
     "text": [
      "Quarta-feira 1600\n",
      "Quinta-feira 1800\n",
      "Sexta-feira 2000\n",
      "Sábado 1900\n"
     ]
    }
   ],
   "source": [
    "for dia, venda in zip(dias_da_semana, vendas_diarias):\n",
    "    if venda > 1500:\n",
    "        print(dia, venda)"
   ]
  }
 ],
 "metadata": {
  "kernelspec": {
   "display_name": "base",
   "language": "python",
   "name": "python3"
  },
  "language_info": {
   "codemirror_mode": {
    "name": "ipython",
    "version": 3
   },
   "file_extension": ".py",
   "mimetype": "text/x-python",
   "name": "python",
   "nbconvert_exporter": "python",
   "pygments_lexer": "ipython3",
   "version": "3.10.13"
  }
 },
 "nbformat": 4,
 "nbformat_minor": 2
}
