{
 "cells": [
  {
   "cell_type": "markdown",
   "id": "638a0fa7-68b3-4c7a-b329-c0ed6972fe7b",
   "metadata": {},
   "source": [
    "# Notebook como uma calculadora interativa"
   ]
  },
  {
   "cell_type": "markdown",
   "id": "05a434a6-3d78-4e1d-9930-d0b8317e1c39",
   "metadata": {},
   "source": [
    "## Principais operações"
   ]
  },
  {
   "cell_type": "code",
   "execution_count": null,
   "id": "682f6205-5fac-4924-9be9-d9cf06130d4c",
   "metadata": {},
   "outputs": [],
   "source": []
  },
  {
   "cell_type": "markdown",
   "id": "92363a4c",
   "metadata": {},
   "source": [
    "## Ordem das operações"
   ]
  },
  {
   "cell_type": "code",
   "execution_count": null,
   "id": "b47d0218-6121-4995-8659-7313e3e21f55",
   "metadata": {},
   "outputs": [],
   "source": []
  },
  {
   "cell_type": "markdown",
   "id": "3c15a3a8",
   "metadata": {},
   "source": [
    "## Representando potências de 10"
   ]
  },
  {
   "cell_type": "code",
   "execution_count": null,
   "id": "27308249-d6fa-4333-85c5-174146af6bb8",
   "metadata": {},
   "outputs": [],
   "source": []
  },
  {
   "cell_type": "markdown",
   "id": "bdce1b7b",
   "metadata": {},
   "source": [
    "## Facilitando a leitura de números grandes"
   ]
  },
  {
   "cell_type": "code",
   "execution_count": null,
   "id": "70ab8d62-f22f-4939-b098-79dc183d9384",
   "metadata": {},
   "outputs": [],
   "source": []
  },
  {
   "cell_type": "markdown",
   "id": "d9c83f80-4f5e-4a92-b1ee-965fe819d1a2",
   "metadata": {},
   "source": [
    "## Cuidados com float"
   ]
  },
  {
   "cell_type": "code",
   "execution_count": null,
   "id": "e1ed948a-488b-4223-95ed-0a0f2a96c7c4",
   "metadata": {},
   "outputs": [],
   "source": [
    "    "
   ]
  }
 ],
 "metadata": {
  "kernelspec": {
   "display_name": "Python 3 (ipykernel)",
   "language": "python",
   "name": "python3"
  },
  "language_info": {
   "codemirror_mode": {
    "name": "ipython",
    "version": 3
   },
   "file_extension": ".py",
   "mimetype": "text/x-python",
   "name": "python",
   "nbconvert_exporter": "python",
   "pygments_lexer": "ipython3",
   "version": "3.11.5"
  }
 },
 "nbformat": 4,
 "nbformat_minor": 5
}
