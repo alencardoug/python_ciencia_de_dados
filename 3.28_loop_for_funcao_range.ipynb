{
 "cells": [
  {
   "cell_type": "markdown",
   "metadata": {},
   "source": [
    "# Loop for - função range"
   ]
  },
  {
   "cell_type": "markdown",
   "metadata": {},
   "source": [
    "A função `range` em Python é uma ferramenta útil usada para gerar sequências de números. É frequentemente usada em loops, como o loop `for`, para repetir uma ação um determinado número de vezes. \n",
    "\n",
    "1. **O que faz**: A função `range` cria uma sequência de números inteiros. Essa sequência pode ser usada para executar um bloco de código várias vezes em um loop `for`, ou para simplesmente gerar uma lista de números.\n",
    "\n",
    "2. **Sintaxe Básica**:\n",
    "   - `range(n)`: Gera uma sequência de números de 0 até `n-1`. Por exemplo, `range(3)` produzirá os números 0, 1, 2.\n",
    "   - `range(inicio, fim)`: Gera uma sequência de números começando em `inicio` e terminando em `fim-1`. Por exemplo, `range(1, 4)` produzirá os números 1, 2, 3.\n",
    "   - `range(inicio, fim, passo)`: Além de definir o início e o fim da sequência, você pode especificar um `passo`, que é o intervalo entre cada número na sequência. Por exemplo, `range(0, 10, 2)` produzirá os números 0, 2, 4, 6, 8.\n"
   ]
  },
  {
   "cell_type": "markdown",
   "metadata": {},
   "source": [
    "3. **Exemplos**:\n",
    "   - **Loop Simples**: Usando `range` em um loop `for` para repetir uma ação 5 vezes:\n",
    "     ```python\n",
    "     for i in range(5):\n",
    "         print(\"Estamos no número\", i)\n",
    "     ```\n",
    "     Isso imprimirá cada número de 0 a 4, com uma mensagem.\n",
    "\n",
    "   - **Especificando um Intervalo**: Executar um loop que começa em 1 e termina em 3:\n",
    "     ```python\n",
    "     for i in range(1, 4):\n",
    "         print(i)\n",
    "     ```\n",
    "     Isso imprimirá os números 1, 2, 3.\n",
    "\n",
    "   - **Usando um Passo**: Criar uma sequência de números pares entre 0 e 10:\n",
    "     ```python\n",
    "     for i in range(0, 11, 2):\n",
    "         print(i)\n",
    "     ```\n",
    "     Isso imprimirá 0, 2, 4, 6, 8, 10.\n"
   ]
  },
  {
   "cell_type": "code",
   "execution_count": 1,
   "metadata": {},
   "outputs": [
    {
     "name": "stdout",
     "output_type": "stream",
     "text": [
      "Estamos no número 0\n",
      "Estamos no número 1\n",
      "Estamos no número 2\n",
      "Estamos no número 3\n",
      "Estamos no número 4\n"
     ]
    }
   ],
   "source": [
    "for i in range(5):\n",
    "    print(\"Estamos no número\", i)"
   ]
  },
  {
   "cell_type": "code",
   "execution_count": 2,
   "metadata": {},
   "outputs": [
    {
     "name": "stdout",
     "output_type": "stream",
     "text": [
      "1\n",
      "2\n",
      "3\n"
     ]
    }
   ],
   "source": [
    "for i in range(1, 4):\n",
    "    print(i)"
   ]
  },
  {
   "cell_type": "code",
   "execution_count": 3,
   "metadata": {},
   "outputs": [
    {
     "name": "stdout",
     "output_type": "stream",
     "text": [
      "0\n",
      "2\n",
      "4\n",
      "6\n",
      "8\n",
      "10\n"
     ]
    }
   ],
   "source": [
    "for i in range(0, 11, 2):\n",
    "    print(i)"
   ]
  },
  {
   "cell_type": "markdown",
   "metadata": {},
   "source": [
    "4. **Por Que Usar `range`**: A função `range` é útil porque fornece uma maneira fácil de criar uma sequência de números sem a necessidade de digitá-los manualmente. Ela é essencial para executar um código repetidamente usando loops e para acessar elementos sequenciais em estruturas de dados que são baseadas em índices.\n",
    "\n",
    "5. **Importante Saber**: A função `range` em Python 3 gera os números sob demanda (conhecido como 'lazy evaluation'). Isso significa que ela não cria uma lista física de todos os números imediatamente, o que economiza memória, especialmente para grandes intervalos."
   ]
  }
 ],
 "metadata": {
  "kernelspec": {
   "display_name": "Python 3 (ipykernel)",
   "language": "python",
   "name": "python3"
  },
  "language_info": {
   "codemirror_mode": {
    "name": "ipython",
    "version": 3
   },
   "file_extension": ".py",
   "mimetype": "text/x-python",
   "name": "python",
   "nbconvert_exporter": "python",
   "pygments_lexer": "ipython3",
   "version": "3.10.13"
  }
 },
 "nbformat": 4,
 "nbformat_minor": 4
}
