{
 "cells": [
  {
   "cell_type": "markdown",
   "metadata": {},
   "source": [
    "# Loop for"
   ]
  },
  {
   "cell_type": "markdown",
   "metadata": {},
   "source": [
    "O loop `for` em Python é uma ferramenta que permite executar um bloco de código repetidamente, cada vez com um valor diferente de uma sequência de valores. É uma forma de iterar sobre uma coleção de itens, como uma lista, uma tupla, um dicionário ou mesmo uma string. [Mais sobre iteráveis](https://cienciaprogramada.com.br/2021/08/iteradores-e-iteraveis-em-python/).\n",
    "\n",
    "1. **Conceito Básico**: Em um loop `for`, você especifica uma variável que tomará o valor de cada elemento da sequência, um de cada vez, e executará um bloco de código para cada um desses elementos.\n",
    "\n",
    "2. **Sintaxe do Loop For**:\n",
    "   ```python\n",
    "   for variavel in sequencia:\n",
    "       # Bloco de código a ser executado\n",
    "   ```\n",
    "   Aqui, `variavel` é a variável que receberá cada elemento de `sequencia` (que pode ser uma lista, tupla, etc.) e o bloco de código sob o `for` será executado uma vez para cada elemento.\n"
   ]
  },
  {
   "cell_type": "markdown",
   "metadata": {},
   "source": [
    "3. **Exemplos**:\n",
    "   - **Iterando Sobre uma Lista**: Suponha que você tenha uma lista de números e queira imprimir cada número.\n",
    "     ```python\n",
    "     numeros = [1, 2, 3, 4, 5]\n",
    "     for numero in numeros:\n",
    "         print(numero)\n",
    "     ```\n",
    "     Isso imprimirá cada número na lista `numeros`.\n",
    "\n",
    "   - **Iterando Sobre uma String**: Você também pode usar um loop `for` para percorrer cada caractere em uma string.\n",
    "     ```python\n",
    "     palavra = \"Olá\"\n",
    "     for letra in palavra:\n",
    "         print(letra)\n",
    "     ```\n",
    "     Isso imprimirá cada letra da palavra \"Olá\".\n"
   ]
  },
  {
   "cell_type": "code",
   "execution_count": 1,
   "metadata": {},
   "outputs": [
    {
     "name": "stdout",
     "output_type": "stream",
     "text": [
      "1\n",
      "2\n",
      "3\n",
      "4\n",
      "5\n"
     ]
    }
   ],
   "source": [
    "numeros = [1, 2, 3, 4, 5]\n",
    "for numero in numeros:\n",
    "    print(numero)"
   ]
  },
  {
   "cell_type": "code",
   "execution_count": 3,
   "metadata": {},
   "outputs": [
    {
     "name": "stdout",
     "output_type": "stream",
     "text": [
      "O\n",
      "l\n",
      "á\n"
     ]
    }
   ],
   "source": [
    "palavra = \"Olá\"\n",
    "for letra in palavra:\n",
    "    print(letra)"
   ]
  },
  {
   "cell_type": "markdown",
   "metadata": {},
   "source": [
    "\n",
    "4. **Utilização com a Função range()**: Uma função frequentemente usada com loops `for` é a `range()`, que gera uma sequência de números. Isso é útil quando você quer repetir uma ação um número específico de vezes.\n",
    "   ```python\n",
    "   for i in range(5):\n",
    "       print(i)\n",
    "   ```\n",
    "   Isso imprimirá os números de 0 a 4.\n"
   ]
  },
  {
   "cell_type": "code",
   "execution_count": 5,
   "metadata": {},
   "outputs": [
    {
     "name": "stdout",
     "output_type": "stream",
     "text": [
      "0\n",
      "1\n",
      "2\n",
      "3\n",
      "4\n"
     ]
    }
   ],
   "source": [
    "for numero in range(5):\n",
    "    print(numero)"
   ]
  },
  {
   "cell_type": "markdown",
   "metadata": {},
   "source": [
    "\n",
    "5. **Loop For com Dicionários**: Ao iterar sobre dicionários, você pode extrair chaves, valores ou ambos.\n",
    "   ```python\n",
    "   meu_dicionario = {'a': 1, 'b': 2}\n",
    "   for chave in meu_dicionario:\n",
    "       print(chave, meu_dicionario[chave])\n",
    "   ```\n",
    "   Isso imprimirá cada chave e seu valor correspondente no dicionário.\n"
   ]
  },
  {
   "cell_type": "code",
   "execution_count": 6,
   "metadata": {},
   "outputs": [
    {
     "name": "stdout",
     "output_type": "stream",
     "text": [
      "a 1\n",
      "b 2\n"
     ]
    }
   ],
   "source": [
    "meu_dicionario = {'a': 1, 'b': 2}\n",
    "\n",
    "for chave in meu_dicionario:\n",
    "    print(chave, meu_dicionario[chave])"
   ]
  },
  {
   "cell_type": "markdown",
   "metadata": {},
   "source": [
    "6. **Por Que Usar Loop For**: O loop `for` é útil porque permite que você execute um conjunto de instruções para cada item de uma coleção de forma clara e concisa. Isso economiza tempo e esforço, evitando a necessidade de escrever o mesmo código várias vezes para diferentes itens."
   ]
  }
 ],
 "metadata": {
  "kernelspec": {
   "display_name": "Python 3 (ipykernel)",
   "language": "python",
   "name": "python3"
  },
  "language_info": {
   "codemirror_mode": {
    "name": "ipython",
    "version": 3
   },
   "file_extension": ".py",
   "mimetype": "text/x-python",
   "name": "python",
   "nbconvert_exporter": "python",
   "pygments_lexer": "ipython3",
   "version": "3.10.13"
  }
 },
 "nbformat": 4,
 "nbformat_minor": 4
}
