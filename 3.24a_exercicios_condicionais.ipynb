{
 "cells": [
  {
   "cell_type": "markdown",
   "metadata": {},
   "source": [
    "## Exercício 1: Categorização de Leads\n",
    "\n",
    "Dada a pontuação de um lead (potencial cliente) para uma empresa, categorize-o como 'Alto', 'Médio' ou 'Baixo', considerando a pontuação. Pontuações acima de 80 são 'Alto', entre 50 e 80 são 'Médio', e abaixo de 50 são 'Baixo'.\n"
   ]
  },
  {
   "cell_type": "code",
   "execution_count": 1,
   "metadata": {},
   "outputs": [
    {
     "name": "stdout",
     "output_type": "stream",
     "text": [
      "O lead é categorizado como: Médio\n"
     ]
    }
   ],
   "source": [
    "pontuacao = 75\n",
    "\n",
    "if pontuacao > 80:\n",
    "    categoria = \"Alto\"\n",
    "elif 50 <= pontuacao <= 80:\n",
    "    categoria = \"Médio\"\n",
    "else:\n",
    "    categoria = \"Baixo\"\n",
    "\n",
    "print(f\"O lead é categorizado como: {categoria}\")"
   ]
  },
  {
   "cell_type": "markdown",
   "metadata": {},
   "source": [
    "## Exercício 2: Aprovação de Crédito\n",
    "\n",
    "Dado o score de crédito de uma empresa (0 a 100) e seu faturamento anual (em milhões), determine se um empréstimo será aprovado. Empréstimos são aprovados para scores acima de 60 com faturamento superior a 1 milhão.\n"
   ]
  },
  {
   "cell_type": "code",
   "execution_count": 2,
   "metadata": {},
   "outputs": [
    {
     "name": "stdout",
     "output_type": "stream",
     "text": [
      "Empréstimo aprovado.\n"
     ]
    }
   ],
   "source": [
    "score_credito = 65\n",
    "faturamento_anual = 1.2  # Em milhões\n",
    "\n",
    "if (score_credito > 60) and (faturamento_anual > 1):\n",
    "    print(\"Empréstimo aprovado.\")\n",
    "else:\n",
    "    print(\"Empréstimo não aprovado.\")"
   ]
  },
  {
   "cell_type": "markdown",
   "metadata": {},
   "source": [
    "## Exercício 3: Determinação de Bônus de Funcionários\n",
    "\n",
    "Em uma empresa, o bônus de fim de ano dos funcionários é determinado tanto pelo seu nível quanto pelo seu desempenho ao longo do ano. Funcionários de nível 1 recebem 10% do salário se seu desempenho for \"bom\", e 15% se for \"excelente\". Funcionários de nível 2 recebem 20% para \"bom\" e 25% para \"excelente\". Calcule o bônus de um funcionário dado seu nível (1 ou 2), desempenho (\"bom\" ou \"excelente\") e salário.\n"
   ]
  },
  {
   "cell_type": "code",
   "execution_count": 3,
   "metadata": {},
   "outputs": [
    {
     "name": "stdout",
     "output_type": "stream",
     "text": [
      "O bônus é: R$1250.0\n"
     ]
    }
   ],
   "source": [
    "nivel = 2\n",
    "desempenho = \"excelente\"\n",
    "salario = 5000\n",
    "\n",
    "if nivel == 1:\n",
    "    if desempenho == \"bom\":\n",
    "        bonus = salario * 0.1\n",
    "    else:\n",
    "        bonus = salario * 0.15\n",
    "elif nivel == 2:\n",
    "    if desempenho == \"bom\":\n",
    "        bonus = salario * 0.2\n",
    "    else:\n",
    "        bonus = salario * 0.25\n",
    "\n",
    "print(f\"O bônus é: R${bonus}\")"
   ]
  },
  {
   "cell_type": "markdown",
   "metadata": {},
   "source": [
    "## Exercício 4: Classificação de Feedback de Clientes\n",
    "\n",
    "Uma empresa classifica o feedback de seus clientes como \"Positivo\", \"Neutro\", ou \"Negativo\", baseado no texto fornecido. Se o feedback contém \"não gostei\" ou \"ruim\", é classificado como \"Negativo\". Se contém \"excelente\" ou \"muito bom\", é \"Positivo\". Caso contrário, é \"Neutro\". Dado um feedback, classifique-o.\n"
   ]
  },
  {
   "cell_type": "code",
   "execution_count": 4,
   "metadata": {},
   "outputs": [
    {
     "name": "stdout",
     "output_type": "stream",
     "text": [
      "Classificação do feedback: Negativo\n"
     ]
    }
   ],
   "source": [
    "feedback = \"Gostei do produto, mas não gostei do serviço de entrega.\"\n",
    "\n",
    "# feedback = \"Gostei do produto e do serviço de entrega.\"\n",
    "\n",
    "# feedback = \"Não gostei do produto e do serviço de entrega.\"\n",
    "\n",
    "# feedback = \"Excelente produto e serviço de entrega.\"\n",
    "\n",
    "# feedback = \"Produto e serviço de entrega muito bom.\"\n",
    "\n",
    "if (\"não gostei\" in feedback.lower()) or (\"ruim\" in feedback.lower()):\n",
    "    classificacao = \"Negativo\"\n",
    "elif (\"excelente\" in feedback.lower()) or (\"muito bom\" in feedback.lower()):\n",
    "    classificacao = \"Positivo\"\n",
    "else:\n",
    "    classificacao = \"Neutro\"\n",
    "\n",
    "print(f\"Classificação do feedback: {classificacao}\")"
   ]
  },
  {
   "cell_type": "markdown",
   "metadata": {},
   "source": [
    "## Exercício 5: Aprovação de Orçamento de Projetos\n",
    "\n",
    "Um projeto é automaticamente aprovado se o orçamento estiver abaixo de `R$10.000`. Projetos acima de `R$50.000` requerem aprovação da diretoria. Entre esses valores, a aprovação é do gerente. Dado o valor do orçamento de um projeto, determine quem deve aprovar.\n"
   ]
  },
  {
   "cell_type": "code",
   "execution_count": 5,
   "metadata": {},
   "outputs": [
    {
     "name": "stdout",
     "output_type": "stream",
     "text": [
      "Requer aprovação do gerente.\n"
     ]
    }
   ],
   "source": [
    "orcamento = 25000\n",
    "\n",
    "if orcamento < 10000:\n",
    "    aprovacao = \"Aprovado automaticamente.\"\n",
    "elif orcamento > 50000:\n",
    "    aprovacao = \"Requer aprovação da diretoria.\"\n",
    "else:\n",
    "    aprovacao = \"Requer aprovação do gerente.\"\n",
    "\n",
    "print(aprovacao)"
   ]
  },
  {
   "cell_type": "markdown",
   "metadata": {},
   "source": [
    "\n",
    "## Exercício 6: Ajuste de Preços de Produtos\n",
    "\n",
    "Uma empresa ajusta os preços de seus produtos baseado na estação do ano: aumenta em 10% no verão, reduz em 5% no inverno, e mantém os preços na primavera e no outono. Dado o preço atual de um produto e a estação do ano, calcule e mostre o novo preço.\n"
   ]
  },
  {
   "cell_type": "code",
   "execution_count": 6,
   "metadata": {},
   "outputs": [
    {
     "name": "stdout",
     "output_type": "stream",
     "text": [
      "O novo preço do produto é: R$110.00\n"
     ]
    }
   ],
   "source": [
    "preco_atual = 100\n",
    "estacao = \"verão\"\n",
    "\n",
    "if estacao == \"verão\":\n",
    "    novo_preco = preco_atual * 1.1\n",
    "elif estacao == \"inverno\":\n",
    "    novo_preco = preco_atual * 0.95\n",
    "else:\n",
    "    novo_preco = preco_atual\n",
    "\n",
    "print(f\"O novo preço do produto é: R${novo_preco:.2f}\")"
   ]
  }
 ],
 "metadata": {
  "kernelspec": {
   "display_name": "Python 3 (ipykernel)",
   "language": "python",
   "name": "python3"
  },
  "language_info": {
   "codemirror_mode": {
    "name": "ipython",
    "version": 3
   },
   "file_extension": ".py",
   "mimetype": "text/x-python",
   "name": "python",
   "nbconvert_exporter": "python",
   "pygments_lexer": "ipython3",
   "version": "3.10.13"
  }
 },
 "nbformat": 4,
 "nbformat_minor": 4
}
