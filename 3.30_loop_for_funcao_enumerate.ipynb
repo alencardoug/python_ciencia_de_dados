{
 "cells": [
  {
   "cell_type": "markdown",
   "metadata": {},
   "source": [
    "# Loop for - função enumerate"
   ]
  },
  {
   "cell_type": "markdown",
   "metadata": {},
   "source": [
    "A função `enumerate` em Python é uma ferramenta muito útil, especialmente quando você está trabalhando com loops. Vamos entender o que ela faz e como pode ser utilizada:\n",
    "\n",
    "1. **O que faz**: A função `enumerate` adiciona um contador aos itens de um iterável (como uma lista) e os retorna como um objeto enumerado. Esse objeto pode ser usado diretamente em loops `for` para obter tanto o índice (contador) quanto o valor do item.\n",
    "\n",
    "2. **Por que é útil**: Normalmente, quando você itera sobre uma lista usando um loop `for`, você obtém apenas os valores da lista. Se você também precisar do índice (posição) de cada item na lista, `enumerate` é a ferramenta perfeita para isso.\n",
    "\n",
    "3. **Sintaxe Básica**:\n",
    "   ```python\n",
    "   enumerate(iterável, start=0)\n",
    "   ```\n",
    "   Aqui, `iterável` é a coleção de itens que você quer iterar (como uma lista), e `start` é o número onde a contagem começa (padrão é 0).\n"
   ]
  },
  {
   "cell_type": "markdown",
   "metadata": {},
   "source": [
    "4. **Exemplo Prático**: Suponha que você tenha uma lista de tarefas e queira imprimir cada tarefa com seu respectivo número na lista.\n",
    "\n",
    "   Sem `enumerate`, você faria algo assim:\n",
    "   ```python\n",
    "   tarefas = ['limpar', 'escrever', 'ler']\n",
    "   for i in range(len(tarefas)):\n",
    "       print(i, tarefas[i])\n",
    "   ```\n",
    "\n",
    "   Com `enumerate`, o código fica mais claro:\n",
    "   ```python\n",
    "   tarefas = ['limpar', 'escrever', 'ler']\n",
    "   for indice, tarefa in enumerate(tarefas):\n",
    "       print(indice, tarefa)\n",
    "   ```\n",
    "\n",
    "   Isso imprimirá:\n",
    "   ```\n",
    "   0 limpar\n",
    "   1 escrever\n",
    "   2 ler\n",
    "   ```\n"
   ]
  },
  {
   "cell_type": "code",
   "execution_count": 1,
   "metadata": {},
   "outputs": [
    {
     "name": "stdout",
     "output_type": "stream",
     "text": [
      "0 limpar\n",
      "1 escrever\n",
      "2 ler\n"
     ]
    }
   ],
   "source": [
    "tarefas = ['limpar', 'escrever', 'ler']\n",
    "for i in range(len(tarefas)):\n",
    "    print(i, tarefas[i])"
   ]
  },
  {
   "cell_type": "code",
   "execution_count": 2,
   "metadata": {},
   "outputs": [
    {
     "name": "stdout",
     "output_type": "stream",
     "text": [
      "0 limpar\n",
      "1 escrever\n",
      "2 ler\n"
     ]
    }
   ],
   "source": [
    "tarefas = ['limpar', 'escrever', 'ler']\n",
    "for indice, tarefa in enumerate(tarefas):\n",
    "    print(indice, tarefa)"
   ]
  },
  {
   "cell_type": "markdown",
   "metadata": {},
   "source": [
    "5. **Aplicações Comuns**:\n",
    "   - **Looping com Índices**: Útil quando você precisa do índice dos itens enquanto itera sobre uma lista.\n",
    "   - **Criação de Tuplas de Índice-Item**: `enumerate` pode ser usado para transformar uma lista em uma lista de tuplas contendo índices e itens.\n",
    "\n",
    "6. **Vantagens**:\n",
    "   - **Legibilidade**: Torna o código mais legível e claro.\n",
    "   - **Eficiência**: Elimina a necessidade de usar `range` e `len` para acessar o índice e o valor."
   ]
  },
  {
   "cell_type": "code",
   "execution_count": 1,
   "metadata": {},
   "outputs": [
    {
     "data": {
      "text/plain": [
       "<enumerate at 0x198fb4509c0>"
      ]
     },
     "execution_count": 1,
     "metadata": {},
     "output_type": "execute_result"
    }
   ],
   "source": [
    "palavra = \"Python\"\n",
    "\n",
    "enumerate(palavra)"
   ]
  },
  {
   "cell_type": "code",
   "execution_count": 2,
   "metadata": {},
   "outputs": [
    {
     "data": {
      "text/plain": [
       "[(0, 'P'), (1, 'y'), (2, 't'), (3, 'h'), (4, 'o'), (5, 'n')]"
      ]
     },
     "execution_count": 2,
     "metadata": {},
     "output_type": "execute_result"
    }
   ],
   "source": [
    "list(enumerate(palavra))"
   ]
  },
  {
   "cell_type": "code",
   "execution_count": 3,
   "metadata": {},
   "outputs": [
    {
     "name": "stdout",
     "output_type": "stream",
     "text": [
      "(0, 'P')\n",
      "(1, 'y')\n",
      "(2, 't')\n",
      "(3, 'h')\n",
      "(4, 'o')\n",
      "(5, 'n')\n"
     ]
    }
   ],
   "source": [
    "for tupla in enumerate(palavra):\n",
    "    print(tupla)"
   ]
  },
  {
   "cell_type": "code",
   "execution_count": 4,
   "metadata": {},
   "outputs": [
    {
     "name": "stdout",
     "output_type": "stream",
     "text": [
      "0 P\n",
      "1 y\n",
      "2 t\n",
      "3 h\n",
      "4 o\n",
      "5 n\n"
     ]
    }
   ],
   "source": [
    "for indice, letra in enumerate(palavra):\n",
    "    print(indice, letra)"
   ]
  },
  {
   "cell_type": "code",
   "execution_count": 5,
   "metadata": {},
   "outputs": [
    {
     "name": "stdout",
     "output_type": "stream",
     "text": [
      "1 Verstappen\n",
      "2 Hamilton\n",
      "3 Leclerc\n",
      "4 Sainz\n",
      "5 Norris\n",
      "6 Alonso\n"
     ]
    }
   ],
   "source": [
    "grid_largada = [\"Verstappen\", \"Hamilton\", \"Leclerc\", \"Sainz\", \"Norris\", \"Alonso\"]\n",
    "\n",
    "for posicao, piloto in enumerate(grid_largada, start=1):\n",
    "    print(posicao, piloto)"
   ]
  }
 ],
 "metadata": {
  "kernelspec": {
   "display_name": "base",
   "language": "python",
   "name": "python3"
  },
  "language_info": {
   "codemirror_mode": {
    "name": "ipython",
    "version": 3
   },
   "file_extension": ".py",
   "mimetype": "text/x-python",
   "name": "python",
   "nbconvert_exporter": "python",
   "pygments_lexer": "ipython3",
   "version": "3.10.13"
  }
 },
 "nbformat": 4,
 "nbformat_minor": 2
}
