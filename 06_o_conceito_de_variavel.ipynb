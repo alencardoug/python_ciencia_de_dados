{
 "cells": [
  {
   "cell_type": "markdown",
   "id": "6d0d9e88-3290-4b8e-a98f-ce304866627c",
   "metadata": {},
   "source": [
    "# Variáveis"
   ]
  },
  {
   "cell_type": "code",
   "execution_count": 3,
   "id": "3938df1a-d2a0-421b-ba88-6416075d448c",
   "metadata": {},
   "outputs": [],
   "source": [
    "salario_base = 1500\n",
    "porcentagem_comissao = 0.05\n",
    "valor_vendas = 500"
   ]
  },
  {
   "cell_type": "code",
   "execution_count": 5,
   "id": "ff2ceb75",
   "metadata": {},
   "outputs": [
    {
     "data": {
      "text/plain": [
       "1525.0"
      ]
     },
     "execution_count": 5,
     "metadata": {},
     "output_type": "execute_result"
    }
   ],
   "source": [
    "salario_vendas = porcentagem_comissao * valor_vendas\n",
    "salario_vendas"
   ]
  },
  {
   "cell_type": "code",
   "execution_count": null,
   "id": "0e6fcbb2",
   "metadata": {},
   "outputs": [],
   "source": [
    "salario_final = salario_base + salario_vendas\n",
    "salario_final"
   ]
  },
  {
   "cell_type": "code",
   "execution_count": 6,
   "id": "dc50896b",
   "metadata": {},
   "outputs": [
    {
     "data": {
      "text/plain": [
       "1700"
      ]
     },
     "execution_count": 6,
     "metadata": {},
     "output_type": "execute_result"
    }
   ],
   "source": [
    "salario_base = salario_base + 200\n",
    "salario_base"
   ]
  },
  {
   "cell_type": "code",
   "execution_count": 7,
   "id": "02cc6fd4",
   "metadata": {},
   "outputs": [
    {
     "data": {
      "text/plain": [
       "1525.0"
      ]
     },
     "execution_count": 7,
     "metadata": {},
     "output_type": "execute_result"
    }
   ],
   "source": [
    "salario_final"
   ]
  },
  {
   "cell_type": "code",
   "execution_count": 8,
   "id": "b4442e24",
   "metadata": {},
   "outputs": [
    {
     "data": {
      "text/plain": [
       "1725.0"
      ]
     },
     "execution_count": 8,
     "metadata": {},
     "output_type": "execute_result"
    }
   ],
   "source": [
    "salario_final = salario_base + salario_vendas\n",
    "salario_final"
   ]
  },
  {
   "cell_type": "code",
   "execution_count": 9,
   "id": "f511daa2",
   "metadata": {},
   "outputs": [
    {
     "data": {
      "text/plain": [
       "1900"
      ]
     },
     "execution_count": 9,
     "metadata": {},
     "output_type": "execute_result"
    }
   ],
   "source": [
    "# outra forma de incrementar o valor de uma variável\n",
    "salario_base += 200\n",
    "salario_base"
   ]
  },
  {
   "cell_type": "code",
   "execution_count": 10,
   "id": "491cfade",
   "metadata": {},
   "outputs": [
    {
     "data": {
      "text/plain": [
       "0.04"
      ]
     },
     "execution_count": 10,
     "metadata": {},
     "output_type": "execute_result"
    }
   ],
   "source": [
    "# diminuindo a percentagem de comissão\n",
    "porcentagem_comissao -= 0.01\n",
    "porcentagem_comissao"
   ]
  },
  {
   "cell_type": "code",
   "execution_count": 11,
   "id": "81039653",
   "metadata": {},
   "outputs": [
    {
     "data": {
      "text/plain": [
       "20.0"
      ]
     },
     "execution_count": 11,
     "metadata": {},
     "output_type": "execute_result"
    }
   ],
   "source": [
    "salario_vendas = porcentagem_comissao * valor_vendas\n",
    "salario_vendas"
   ]
  },
  {
   "cell_type": "code",
   "execution_count": 12,
   "id": "f565e3b7",
   "metadata": {},
   "outputs": [
    {
     "data": {
      "text/plain": [
       "1920.0"
      ]
     },
     "execution_count": 12,
     "metadata": {},
     "output_type": "execute_result"
    }
   ],
   "source": [
    "salario_final = salario_base + salario_vendas\n",
    "salario_final"
   ]
  },
  {
   "cell_type": "code",
   "execution_count": null,
   "id": "efa7e185",
   "metadata": {},
   "outputs": [],
   "source": []
  },
  {
   "cell_type": "code",
   "execution_count": 16,
   "id": "d0adf4c1",
   "metadata": {},
   "outputs": [
    {
     "data": {
      "text/plain": [
       "15"
      ]
     },
     "execution_count": 16,
     "metadata": {},
     "output_type": "execute_result"
    }
   ],
   "source": [
    "exemplo = 3 * 5\n",
    "exemplo"
   ]
  },
  {
   "cell_type": "code",
   "execution_count": 17,
   "id": "2af0ffef",
   "metadata": {},
   "outputs": [
    {
     "data": {
      "text/plain": [
       "30"
      ]
     },
     "execution_count": 17,
     "metadata": {},
     "output_type": "execute_result"
    }
   ],
   "source": [
    "exemplo *= 2\n",
    "exemplo"
   ]
  },
  {
   "cell_type": "code",
   "execution_count": 18,
   "id": "17a83dc2",
   "metadata": {},
   "outputs": [
    {
     "data": {
      "text/plain": [
       "10.0"
      ]
     },
     "execution_count": 18,
     "metadata": {},
     "output_type": "execute_result"
    }
   ],
   "source": [
    "exemplo /= 3\n",
    "exemplo"
   ]
  },
  {
   "cell_type": "markdown",
   "id": "cfa61a23",
   "metadata": {},
   "source": [
    "## Como nomear variáveis\n",
    "\n",
    "- Não pode começar com números\n",
    "- Não pode conter espaços\n",
    "- Não pode conter símbolos\n",
    "- Evite acentos\n",
    "- Pode conter underscore\n",
    "- Pode conter letras maiúsculas e minúsculas (case sensitive)\n",
    "  - No entanto, não é recomendado usar letras maiúsculas no início do nome da variável (classes)\n",
    "  - Todas as letras maiúsculas é usado para indicar constantes\n",
    "- Não pode ser uma palavra reservada\n",
    "- Deve ser um nome significativo\n",
    "- Evite ser muito grande"
   ]
  }
 ],
 "metadata": {
  "kernelspec": {
   "display_name": "Python 3 (ipykernel)",
   "language": "python",
   "name": "python3"
  },
  "language_info": {
   "codemirror_mode": {
    "name": "ipython",
    "version": 3
   },
   "file_extension": ".py",
   "mimetype": "text/x-python",
   "name": "python",
   "nbconvert_exporter": "python",
   "pygments_lexer": "ipython3",
   "version": "3.11.5"
  }
 },
 "nbformat": 4,
 "nbformat_minor": 5
}
