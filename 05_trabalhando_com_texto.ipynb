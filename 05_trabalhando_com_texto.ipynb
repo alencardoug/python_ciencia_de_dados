{
 "cells": [
  {
   "cell_type": "markdown",
   "id": "d43eda1b-380f-47a0-a61e-8dd1ef6dd628",
   "metadata": {},
   "source": [
    "# Trabalhando com texto - strings"
   ]
  },
  {
   "cell_type": "code",
   "execution_count": 2,
   "id": "23cd88fb-7be1-47fd-9c79-e109852d97d2",
   "metadata": {
    "tags": []
   },
   "outputs": [
    {
     "data": {
      "text/plain": [
       "'Isto é um texto'"
      ]
     },
     "execution_count": 2,
     "metadata": {},
     "output_type": "execute_result"
    }
   ],
   "source": [
    "'Isto é um texto'"
   ]
  },
  {
   "cell_type": "code",
   "execution_count": 3,
   "id": "55b43956-04f6-4ff6-8e9f-e863843239ee",
   "metadata": {
    "tags": []
   },
   "outputs": [
    {
     "data": {
      "text/plain": [
       "'Isto aqui também é um texto'"
      ]
     },
     "execution_count": 3,
     "metadata": {},
     "output_type": "execute_result"
    }
   ],
   "source": [
    "\"Isto aqui também é um texto\""
   ]
  },
  {
   "cell_type": "code",
   "execution_count": 4,
   "id": "7ab63556-ccde-4366-abea-7ee744937b91",
   "metadata": {
    "tags": []
   },
   "outputs": [
    {
     "data": {
      "text/plain": [
       "\"Caixa d'água\""
      ]
     },
     "execution_count": 4,
     "metadata": {},
     "output_type": "execute_result"
    }
   ],
   "source": [
    "\"Caixa d'água\""
   ]
  },
  {
   "cell_type": "code",
   "execution_count": 5,
   "id": "4ff72061-7adf-42ad-89ed-644f6fdd8d2c",
   "metadata": {
    "tags": []
   },
   "outputs": [
    {
     "ename": "SyntaxError",
     "evalue": "unterminated string literal (detected at line 1) (126243316.py, line 1)",
     "output_type": "error",
     "traceback": [
      "\u001b[1;36m  Cell \u001b[1;32mIn[5], line 1\u001b[1;36m\u001b[0m\n\u001b[1;33m    'Caixa d'água'\u001b[0m\n\u001b[1;37m                 ^\u001b[0m\n\u001b[1;31mSyntaxError\u001b[0m\u001b[1;31m:\u001b[0m unterminated string literal (detected at line 1)\n"
     ]
    }
   ],
   "source": [
    "'Caixa d'água'"
   ]
  },
  {
   "cell_type": "code",
   "execution_count": 6,
   "id": "8f2f8501-7cb6-41e4-870f-b437fbce8fef",
   "metadata": {
    "tags": []
   },
   "outputs": [
    {
     "name": "stdout",
     "output_type": "stream",
     "text": [
      "Isto é um texto\n"
     ]
    }
   ],
   "source": [
    "# no Jupyter, o comando print é facultativo. Ah, isso é um comentário :-)\n",
    "print(\"Isto é um texto\")"
   ]
  },
  {
   "cell_type": "code",
   "execution_count": 7,
   "id": "060e13f1-304c-49f5-b556-060d4b530c8d",
   "metadata": {
    "tags": []
   },
   "outputs": [
    {
     "data": {
      "text/plain": [
       "'\\nEste texto\\ntem múltiplas\\nlinhas\\n'"
      ]
     },
     "execution_count": 7,
     "metadata": {},
     "output_type": "execute_result"
    }
   ],
   "source": [
    "\"\"\"\n",
    "Este texto\n",
    "tem múltiplas\n",
    "linhas\n",
    "\"\"\""
   ]
  },
  {
   "cell_type": "code",
   "execution_count": 19,
   "id": "a31f60cf-e561-4574-bc7b-f1762b74639f",
   "metadata": {
    "tags": []
   },
   "outputs": [
    {
     "data": {
      "text/plain": [
       "'\\nEste texto\\ntem múltiplas\\nlinhas\\n'"
      ]
     },
     "execution_count": 19,
     "metadata": {},
     "output_type": "execute_result"
    }
   ],
   "source": [
    "'''\n",
    "Este texto\n",
    "tem múltiplas\n",
    "linhas\n",
    "'''"
   ]
  },
  {
   "cell_type": "code",
   "execution_count": 20,
   "id": "bdb904d1-a2b6-49da-aa8b-5a6974af0b23",
   "metadata": {
    "tags": []
   },
   "outputs": [
    {
     "name": "stdout",
     "output_type": "stream",
     "text": [
      "\n",
      "Este texto\n",
      "tem múltiplas\n",
      "linhas\n",
      "\n"
     ]
    }
   ],
   "source": [
    "print(\"\"\"\n",
    "Este texto\n",
    "tem múltiplas\n",
    "linhas\n",
    "\"\"\")"
   ]
  },
  {
   "cell_type": "code",
   "execution_count": 17,
   "id": "2845d3e5-5208-4a97-a4db-f3818272788b",
   "metadata": {
    "tags": []
   },
   "outputs": [
    {
     "name": "stdout",
     "output_type": "stream",
     "text": [
      "Opa, \n",
      " pulei linha\n"
     ]
    }
   ],
   "source": [
    "print(\"Opa, \\n pulei linha\")"
   ]
  },
  {
   "cell_type": "code",
   "execution_count": 12,
   "id": "cc2d4d54-3d93-492f-b1fb-015c7f4e83a0",
   "metadata": {
    "tags": []
   },
   "outputs": [
    {
     "name": "stdout",
     "output_type": "stream",
     "text": [
      "Agora \\n não pulei\n"
     ]
    }
   ],
   "source": [
    "print(\"Agora \\\\n não pulei\")"
   ]
  },
  {
   "cell_type": "code",
   "execution_count": 13,
   "id": "2dc36f66-0bf4-40bf-a220-4ffe1e087d3a",
   "metadata": {
    "tags": []
   },
   "outputs": [
    {
     "data": {
      "text/plain": [
       "'Agora \\\\n não pulei'"
      ]
     },
     "execution_count": 13,
     "metadata": {},
     "output_type": "execute_result"
    }
   ],
   "source": [
    "\"Agora \\\\n não pulei\""
   ]
  },
  {
   "cell_type": "code",
   "execution_count": 14,
   "id": "d7ca9f72-3e9a-49d1-99fb-0582935f2cc4",
   "metadata": {
    "tags": []
   },
   "outputs": [
    {
     "name": "stdout",
     "output_type": "stream",
     "text": [
      "Olha uma \t tabulação\n"
     ]
    }
   ],
   "source": [
    "print(\"Olha uma \\t tabulação\")"
   ]
  },
  {
   "cell_type": "code",
   "execution_count": 15,
   "id": "e4cc3dd1-2634-40b1-990a-19009753d543",
   "metadata": {
    "tags": []
   },
   "outputs": [
    {
     "data": {
      "text/plain": [
       "'Olha uma \\t tabulação'"
      ]
     },
     "execution_count": 15,
     "metadata": {},
     "output_type": "execute_result"
    }
   ],
   "source": [
    "\"Olha uma \\t tabulação\""
   ]
  },
  {
   "cell_type": "code",
   "execution_count": 16,
   "id": "fdfea96d-26aa-442b-a9d2-3cc028877af8",
   "metadata": {
    "tags": []
   },
   "outputs": [
    {
     "name": "stdout",
     "output_type": "stream",
     "text": [
      "Agora sem \\t tabulação\n"
     ]
    }
   ],
   "source": [
    "print(\"Agora sem \\\\t tabulação\")"
   ]
  }
 ],
 "metadata": {
  "kernelspec": {
   "display_name": "Python 3 (ipykernel)",
   "language": "python",
   "name": "python3"
  },
  "language_info": {
   "codemirror_mode": {
    "name": "ipython",
    "version": 3
   },
   "file_extension": ".py",
   "mimetype": "text/x-python",
   "name": "python",
   "nbconvert_exporter": "python",
   "pygments_lexer": "ipython3",
   "version": "3.11.5"
  }
 },
 "nbformat": 4,
 "nbformat_minor": 5
}
