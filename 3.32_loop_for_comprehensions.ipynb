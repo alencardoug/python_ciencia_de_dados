{
 "cells": [
  {
   "cell_type": "markdown",
   "metadata": {},
   "source": [
    "# Loop for - comprehensions"
   ]
  },
  {
   "cell_type": "markdown",
   "metadata": {},
   "source": [
    "Comprehensions em Python são uma forma concisa e eficiente de criar novas listas ou dicionários a partir de sequências existentes. Vamos entender o que são e como utilizá-las:\n",
    "\n",
    "1. **O que são Comprehensions**: Comprehensions são uma maneira de construir uma nova coleção (lista, dicionário ou conjunto) de forma mais curta e legível. Elas permitem que você crie estas coleções usando uma expressão concisa dentro de colchetes (para listas) ou chaves (para dicionários).\n",
    "\n",
    "2. **Por que são úteis**: Usar comprehensions pode tornar seu código mais limpo e expressivo. Elas permitem que você escreva loops e condicionais de maneira mais direta e com menos linhas de código.\n",
    "\n",
    "3. **Tipos de Comprehensions**:\n",
    "   - **List Comprehension**: Usada para criar novas listas.\n",
    "   - **Dictionary Comprehension**: Usada para criar novos dicionários.\n",
    "\n",
    "4. **Como Funcionam**:\n",
    "   - Uma comprehension consiste de uma expressão seguida por um loop `for` e, opcionalmente, condicionais `if`.\n",
    "   - A expressão define como os elementos da nova coleção serão formados.\n",
    "   - O loop `for` itera sobre a coleção original.\n",
    "   - As condicionais `if` são usadas para filtrar elementos da coleção original.\n",
    "\n",
    "8. **Vantagens**:\n",
    "   - **Eficiência**: Comprehensions são geralmente mais eficientes do que loops regulares.\n",
    "   - **Legibilidade**: Reduzem a quantidade de código necessária, tornando-o mais legível.\n"
   ]
  },
  {
   "cell_type": "markdown",
   "metadata": {},
   "source": [
    "## List Comprehension"
   ]
  },
  {
   "cell_type": "markdown",
   "metadata": {},
   "source": [
    "Sintaxe:\n",
    "\n",
    "```python\n",
    "[expressão for item in iterável if condição]\n",
    "```"
   ]
  },
  {
   "cell_type": "code",
   "execution_count": 1,
   "metadata": {},
   "outputs": [],
   "source": [
    "vendas_diarias = [150, 300, 50, 800, 500, 400]\n",
    "bonificacao = 0.1\n",
    "\n",
    "bonus_diario = []\n",
    "\n",
    "for venda in vendas_diarias:\n",
    "    bonus_diario.append(venda * bonificacao)"
   ]
  },
  {
   "cell_type": "code",
   "execution_count": 2,
   "metadata": {},
   "outputs": [
    {
     "data": {
      "text/plain": [
       "[15.0, 30.0, 5.0, 80.0, 50.0, 40.0]"
      ]
     },
     "execution_count": 2,
     "metadata": {},
     "output_type": "execute_result"
    }
   ],
   "source": [
    "bonus_diario"
   ]
  },
  {
   "cell_type": "code",
   "execution_count": 3,
   "metadata": {},
   "outputs": [
    {
     "data": {
      "text/plain": [
       "[15.0, 30.0, 5.0, 80.0, 50.0, 40.0]"
      ]
     },
     "execution_count": 3,
     "metadata": {},
     "output_type": "execute_result"
    }
   ],
   "source": [
    "bonus_diario_comprehension = [venda * bonificacao for venda in vendas_diarias]\n",
    "bonus_diario_comprehension"
   ]
  },
  {
   "cell_type": "code",
   "execution_count": 4,
   "metadata": {},
   "outputs": [],
   "source": [
    "vendas_diarias = [150, 300, 50, 800, 500, 400]\n",
    "limite = 300"
   ]
  },
  {
   "cell_type": "code",
   "execution_count": 5,
   "metadata": {},
   "outputs": [],
   "source": [
    "# listas possuem um método chamado append que adiciona um elemento ao final da lista\n",
    "vendas_acima_loop_for_append = []\n",
    "\n",
    "for venda in vendas_diarias:\n",
    "    if venda > limite:\n",
    "        vendas_acima_loop_for_append.append(venda)"
   ]
  },
  {
   "cell_type": "code",
   "execution_count": 6,
   "metadata": {},
   "outputs": [
    {
     "data": {
      "text/plain": [
       "[800, 500, 400]"
      ]
     },
     "execution_count": 6,
     "metadata": {},
     "output_type": "execute_result"
    }
   ],
   "source": [
    "vendas_acima_loop_for_append"
   ]
  },
  {
   "cell_type": "code",
   "execution_count": 7,
   "metadata": {},
   "outputs": [
    {
     "data": {
      "text/plain": [
       "[800, 500, 400]"
      ]
     },
     "execution_count": 7,
     "metadata": {},
     "output_type": "execute_result"
    }
   ],
   "source": [
    "vendas_acima_comprehension = [venda for venda in vendas_diarias if venda > limite]\n",
    "vendas_acima_comprehension"
   ]
  },
  {
   "cell_type": "markdown",
   "metadata": {},
   "source": [
    "## Dictionary Comprehension"
   ]
  },
  {
   "cell_type": "markdown",
   "metadata": {},
   "source": [
    "Sintaxe:\n",
    "\n",
    "```python\n",
    "{chave: valor for item in iterável if condição}\n",
    "```"
   ]
  },
  {
   "cell_type": "code",
   "execution_count": 8,
   "metadata": {},
   "outputs": [
    {
     "data": {
      "text/plain": [
       "{'camiseta': 500, 'calça': 750, 'sapato': 2000}"
      ]
     },
     "execution_count": 8,
     "metadata": {},
     "output_type": "execute_result"
    }
   ],
   "source": [
    "vendas_por_produto = {'camiseta': 25, 'calça': 15, 'sapato': 20}\n",
    "precos = {'camiseta': 20, 'calça': 50, 'sapato': 100}\n",
    "\n",
    "total_vendas_por_produto_loop_for = {}\n",
    "\n",
    "for produto in vendas_por_produto:\n",
    "    total_vendas_por_produto_loop_for[produto] = vendas_por_produto[produto] * precos[produto]\n",
    "\n",
    "total_vendas_por_produto_loop_for"
   ]
  },
  {
   "cell_type": "code",
   "execution_count": 9,
   "metadata": {},
   "outputs": [
    {
     "data": {
      "text/plain": [
       "{'camiseta': 500, 'calça': 750, 'sapato': 2000}"
      ]
     },
     "execution_count": 9,
     "metadata": {},
     "output_type": "execute_result"
    }
   ],
   "source": [
    "total_vendas_por_produto_comprehension = {produto: vendas_por_produto[produto] * precos[produto] for produto in vendas_por_produto}\n",
    "total_vendas_por_produto_comprehension"
   ]
  },
  {
   "cell_type": "code",
   "execution_count": 10,
   "metadata": {},
   "outputs": [
    {
     "data": {
      "text/plain": [
       "{'sapato': 2000}"
      ]
     },
     "execution_count": 10,
     "metadata": {},
     "output_type": "execute_result"
    }
   ],
   "source": [
    "meta_faturamento = 1000\n",
    "\n",
    "total_vendas_acima_meta_comprehension = {produto: vendas_por_produto[produto] * precos[produto] for produto in vendas_por_produto if vendas_por_produto[produto] * precos[produto] > meta_faturamento}\n",
    "total_vendas_acima_meta_comprehension"
   ]
  }
 ],
 "metadata": {
  "kernelspec": {
   "display_name": "Python 3 (ipykernel)",
   "language": "python",
   "name": "python3"
  },
  "language_info": {
   "codemirror_mode": {
    "name": "ipython",
    "version": 3
   },
   "file_extension": ".py",
   "mimetype": "text/x-python",
   "name": "python",
   "nbconvert_exporter": "python",
   "pygments_lexer": "ipython3",
   "version": "3.10.13"
  }
 },
 "nbformat": 4,
 "nbformat_minor": 4
}
