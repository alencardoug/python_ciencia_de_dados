{
 "cells": [
  {
   "cell_type": "markdown",
   "metadata": {},
   "source": [
    "# Formatação de strings"
   ]
  },
  {
   "cell_type": "markdown",
   "metadata": {},
   "source": [
    "## f-strings"
   ]
  },
  {
   "cell_type": "markdown",
   "metadata": {},
   "source": [
    "Disponíveis a partir do Python 3.6, as f-strings avançaram ainda mais na flexibilidade e na legibilidade. O uso básico é bem simples, bastando colocar `f` (ou `F`) antes da string e a variável entre parênteses:"
   ]
  },
  {
   "cell_type": "code",
   "execution_count": 1,
   "metadata": {},
   "outputs": [
    {
     "name": "stdout",
     "output_type": "stream",
     "text": [
      "Nome: Francisco.\n"
     ]
    }
   ],
   "source": [
    "nome = \"Francisco\"\n",
    "print(f\"Nome: {nome}.\")"
   ]
  },
  {
   "cell_type": "markdown",
   "metadata": {},
   "source": [
    "As f-strings são resolvidas em tempo de execução, de forma que podem ser passadas expressões diretamente:"
   ]
  },
  {
   "cell_type": "code",
   "execution_count": 2,
   "metadata": {},
   "outputs": [
    {
     "name": "stdout",
     "output_type": "stream",
     "text": [
      "Conta: 4\n"
     ]
    }
   ],
   "source": [
    "print(f\"Conta: {2 * 2}\")"
   ]
  },
  {
   "cell_type": "markdown",
   "metadata": {},
   "source": [
    "### Lidando com números"
   ]
  },
  {
   "cell_type": "markdown",
   "metadata": {},
   "source": [
    "Pode-se adotar a mesma forma de lidar vista com o `format`:"
   ]
  },
  {
   "cell_type": "code",
   "execution_count": 3,
   "metadata": {},
   "outputs": [
    {
     "name": "stdout",
     "output_type": "stream",
     "text": [
      "10 caracteres e 4 casas decimais:    23.4500 (format)\n",
      "10 caracteres e 4 casas decimais:    23.4500 (f-string)\n"
     ]
    }
   ],
   "source": [
    "num = 23.45\n",
    "\n",
    "print(\"10 caracteres e 4 casas decimais: {:10.4f} (format)\".format(num))\n",
    "\n",
    "print(f\"10 caracteres e 4 casas decimais: {num:10.4f} (f-string)\")\n"
   ]
  },
  {
   "cell_type": "markdown",
   "metadata": {},
   "source": [
    "### Alinhamento\n",
    "\n",
    "O que foi visto sobre alinhamento na parte do `format` continua valendo aqui. E ainda podemos usar a resolução em tempo de execução. Veja o exemplo:"
   ]
  },
  {
   "cell_type": "code",
   "execution_count": 4,
   "metadata": {},
   "outputs": [
    {
     "name": "stdout",
     "output_type": "stream",
     "text": [
      "      Nome       | Idade  |     Empresa    \n",
      "---------------- | ------ | ---------------\n",
      "Bill Gates       |   68   |       Microsoft\n",
      "Elon Musk        |   52   |               X\n",
      "Mark Zuckerberg  |   39   |        Facebook\n"
     ]
    }
   ],
   "source": [
    "pessoas = {\n",
    "    \"bill\": {\"nome\": \"Bill Gates\", \"idade\": 68, \"empresa\": \"Microsoft\"},\n",
    "    \"elon\": {\"nome\": \"Elon Musk\", \"idade\": 52, \"empresa\": \"X\"},\n",
    "    \"mark\": {\"nome\": \"Mark Zuckerberg\", \"idade\": 39, \"empresa\": \"Facebook\"},\n",
    "}\n",
    "\n",
    "print(f\"{'Nome':^16} | {'Idade':^6} | {'Empresa':^15}\")\n",
    "print(f\"{'-'*16} | {'-'*6} | {'-'*15}\")\n",
    "print(f\"{pessoas['bill']['nome']:<16} | {pessoas['bill']['idade']:^6} | {pessoas['bill']['empresa']:>15}\")\n",
    "print(f\"{pessoas['elon']['nome']:<16} | {pessoas['elon']['idade']:^6} | {pessoas['elon']['empresa']:>15}\")\n",
    "print(f\"{pessoas['mark']['nome']:<16} | {pessoas['mark']['idade']:^6} | {pessoas['mark']['empresa']:>15}\")"
   ]
  },
  {
   "cell_type": "markdown",
   "metadata": {},
   "source": [
    "Repare que há muita repetição de código. Para evitar isso, mais adiante no curso veremos como criar *loops* (laços) de repetição.\n"
   ]
  },
  {
   "cell_type": "markdown",
   "metadata": {},
   "source": [
    "Para saber mais, [veja a documentação das f-strings](https://docs.python.org/3/reference/lexical_analysis.html#f-strings)."
   ]
  }
 ],
 "metadata": {
  "interpreter": {
   "hash": "586ad1ed5c97141e2437e681efbf1ec0adcd17d830cf5af2ca3d2819e743e158"
  },
  "kernelspec": {
   "display_name": "Python 3.9.7 ('base')",
   "language": "python",
   "name": "python3"
  },
  "language_info": {
   "codemirror_mode": {
    "name": "ipython",
    "version": 3
   },
   "file_extension": ".py",
   "mimetype": "text/x-python",
   "name": "python",
   "nbconvert_exporter": "python",
   "pygments_lexer": "ipython3",
   "version": "3.10.13"
  },
  "orig_nbformat": 4
 },
 "nbformat": 4,
 "nbformat_minor": 2
}
