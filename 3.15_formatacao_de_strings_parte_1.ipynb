{
 "cells": [
  {
   "cell_type": "markdown",
   "metadata": {},
   "source": [
    "# Formatação de strings"
   ]
  },
  {
   "cell_type": "markdown",
   "metadata": {},
   "source": [
    "## Marcador de posição"
   ]
  },
  {
   "cell_type": "markdown",
   "metadata": {},
   "source": [
    "Forma de formatação de strings mais antiga na linguagem. Atualmente, se recomenda utilizar as outras formas apresentadas mais adiante no curso. No entanto, como ainda há muito código legado por aí, é importante saber como utilizar.\n",
    "\n",
    "Como o nome sugere, utiliza-se de marcadores de posição, como `%s`, no interior da string. Por exemplo:"
   ]
  },
  {
   "cell_type": "code",
   "execution_count": 1,
   "metadata": {},
   "outputs": [
    {
     "data": {
      "text/plain": [
       "'Um texto vai ser colocado aqui'"
      ]
     },
     "execution_count": 1,
     "metadata": {},
     "output_type": "execute_result"
    }
   ],
   "source": [
    "\"Um texto vai ser colocado %s\" % \"aqui\""
   ]
  },
  {
   "cell_type": "code",
   "execution_count": 2,
   "metadata": {},
   "outputs": [
    {
     "name": "stdout",
     "output_type": "stream",
     "text": [
      "Um texto vai ser colocado aqui\n"
     ]
    }
   ],
   "source": [
    "print(\"Um texto vai ser colocado %s\" % \"aqui\")"
   ]
  },
  {
   "cell_type": "markdown",
   "metadata": {},
   "source": [
    "Quando é necessário mais de uma inserção, uma tupla é passada com cada inserção na ordem que deve aparecer na string:"
   ]
  },
  {
   "cell_type": "code",
   "execution_count": 3,
   "metadata": {},
   "outputs": [
    {
     "name": "stdout",
     "output_type": "stream",
     "text": [
      "Um texto vai ser colocado aqui, e mais aqui também\n"
     ]
    }
   ],
   "source": [
    "print(\"Um texto vai ser colocado %s, e %s também\" % (\"aqui\", \"mais aqui\"))"
   ]
  },
  {
   "cell_type": "markdown",
   "metadata": {},
   "source": [
    "### Lidando com números"
   ]
  },
  {
   "cell_type": "markdown",
   "metadata": {},
   "source": [
    "No caso de querer uma representação fiel do número passado, utiliza-se `%s` para que o mesmo seja convertido para string. Mas manipulações podem ser feitas, como truncamento para inteiro e mostrar o sinal:"
   ]
  },
  {
   "cell_type": "code",
   "execution_count": 4,
   "metadata": {},
   "outputs": [
    {
     "name": "stdout",
     "output_type": "stream",
     "text": [
      "Números como 13.744 são convertidos para string\n",
      "Também podem ser representados como inteiros: 13; repare que sem arredondamento\n",
      "Mostrando o sinal em inteiros: +13\n",
      "Mostrando o sinal em floats: +13.744000\n"
     ]
    }
   ],
   "source": [
    "num = 13.744\n",
    "\n",
    "print(\"Números como %s são convertidos para string\" % num)\n",
    "\n",
    "print(\"Também podem ser representados como inteiros: %d; repare que sem arredondamento\" % num)\n",
    "\n",
    "print(\"Mostrando o sinal em inteiros: %+d\" % num)\n",
    "print(\"Mostrando o sinal em floats: %+f\" % num)"
   ]
  },
  {
   "cell_type": "markdown",
   "metadata": {},
   "source": [
    "Observe acima que a representação de float ficou com mais decimais que o número passado. Podemos modificar esta representação com `x.yf`, onde *x* é o mínimo de caracteres e *y*, as casas decimais:"
   ]
  },
  {
   "cell_type": "code",
   "execution_count": 5,
   "metadata": {},
   "outputs": [
    {
     "name": "stdout",
     "output_type": "stream",
     "text": [
      "Mínimo de 7 caracteres com 2 casas decimais:   13.74\n",
      "Mínimo de 1 caracteres com 0 casas decimais: 14 (observe o arredondamento)\n",
      "Mínimo de 1 caracteres com 5 casas decimais: 13.74400\n",
      "Mínimo de 10 caracteres com 2 casas decimais:      13.74\n",
      "Mínimo de 10 caracteres com 2 casas decimais:     +13.74 (com sinal)\n"
     ]
    }
   ],
   "source": [
    "print(\"Mínimo de 7 caracteres com 2 casas decimais: %7.2f\" % num)\n",
    "print(\"Mínimo de 1 caracteres com 0 casas decimais: %1.0f (observe o arredondamento)\" % num)\n",
    "print(\"Mínimo de 1 caracteres com 5 casas decimais: %1.5f\" % num)\n",
    "print(\"Mínimo de 10 caracteres com 2 casas decimais: %10.2f\" % num)\n",
    "print(\"Mínimo de 10 caracteres com 2 casas decimais: %+10.2f (com sinal)\" % num)"
   ]
  }
 ],
 "metadata": {
  "interpreter": {
   "hash": "586ad1ed5c97141e2437e681efbf1ec0adcd17d830cf5af2ca3d2819e743e158"
  },
  "kernelspec": {
   "display_name": "Python 3.9.7 ('base')",
   "language": "python",
   "name": "python3"
  },
  "language_info": {
   "codemirror_mode": {
    "name": "ipython",
    "version": 3
   },
   "file_extension": ".py",
   "mimetype": "text/x-python",
   "name": "python",
   "nbconvert_exporter": "python",
   "pygments_lexer": "ipython3",
   "version": "3.10.13"
  },
  "orig_nbformat": 4
 },
 "nbformat": 4,
 "nbformat_minor": 2
}
