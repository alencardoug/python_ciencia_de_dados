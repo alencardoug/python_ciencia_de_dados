{
 "cells": [
  {
   "cell_type": "markdown",
   "metadata": {},
   "source": [
    "# Loop for"
   ]
  },
  {
   "cell_type": "code",
   "execution_count": 4,
   "metadata": {},
   "outputs": [],
   "source": [
    "pessoas = {\n",
    "    \"bill\": {\"nome\": \"Bill Gates\", \"idade\": 68, \"empresa\": \"Microsoft\"},\n",
    "    \"elon\": {\"nome\": \"Elon Musk\", \"idade\": 52, \"empresa\": \"X\"},\n",
    "    \"mark\": {\"nome\": \"Mark Zuckerberg\", \"idade\": 39, \"empresa\": \"Facebook\"},\n",
    "}"
   ]
  },
  {
   "cell_type": "code",
   "execution_count": 5,
   "metadata": {},
   "outputs": [
    {
     "name": "stdout",
     "output_type": "stream",
     "text": [
      "bill\n",
      "elon\n",
      "mark\n"
     ]
    }
   ],
   "source": [
    "for pessoa in pessoas:\n",
    "    print(pessoa)"
   ]
  },
  {
   "cell_type": "markdown",
   "metadata": {},
   "source": [
    "Todo dicionário tem um método chamado `items()` que retorna uma lista de tuplas, onde cada tupla é um par chave-valor."
   ]
  },
  {
   "cell_type": "code",
   "execution_count": 7,
   "metadata": {},
   "outputs": [
    {
     "data": {
      "text/plain": [
       "dict_items([('bill', {'nome': 'Bill Gates', 'idade': 68, 'empresa': 'Microsoft'}), ('elon', {'nome': 'Elon Musk', 'idade': 52, 'empresa': 'X'}), ('mark', {'nome': 'Mark Zuckerberg', 'idade': 39, 'empresa': 'Facebook'})])"
      ]
     },
     "execution_count": 7,
     "metadata": {},
     "output_type": "execute_result"
    }
   ],
   "source": [
    "pessoas.items()"
   ]
  },
  {
   "cell_type": "code",
   "execution_count": 8,
   "metadata": {},
   "outputs": [
    {
     "name": "stdout",
     "output_type": "stream",
     "text": [
      "('bill', {'nome': 'Bill Gates', 'idade': 68, 'empresa': 'Microsoft'})\n",
      "('elon', {'nome': 'Elon Musk', 'idade': 52, 'empresa': 'X'})\n",
      "('mark', {'nome': 'Mark Zuckerberg', 'idade': 39, 'empresa': 'Facebook'})\n"
     ]
    }
   ],
   "source": [
    "for item in pessoas.items():\n",
    "    print(item)"
   ]
  },
  {
   "cell_type": "markdown",
   "metadata": {},
   "source": [
    "Sendo tuplas, podemos fazer um unpacking de cada tupla em variáveis separadas, como no exemplo abaixo:\n"
   ]
  },
  {
   "cell_type": "code",
   "execution_count": 9,
   "metadata": {},
   "outputs": [
    {
     "name": "stdout",
     "output_type": "stream",
     "text": [
      "bill {'nome': 'Bill Gates', 'idade': 68, 'empresa': 'Microsoft'}\n",
      "elon {'nome': 'Elon Musk', 'idade': 52, 'empresa': 'X'}\n",
      "mark {'nome': 'Mark Zuckerberg', 'idade': 39, 'empresa': 'Facebook'}\n"
     ]
    }
   ],
   "source": [
    "for chave, valor in pessoas.items():\n",
    "    print(chave, valor)"
   ]
  },
  {
   "cell_type": "code",
   "execution_count": 10,
   "metadata": {},
   "outputs": [
    {
     "name": "stdout",
     "output_type": "stream",
     "text": [
      "bill Microsoft\n",
      "elon X\n",
      "mark Facebook\n"
     ]
    }
   ],
   "source": [
    "for chave, valor in pessoas.items():\n",
    "    print(chave, valor['empresa'])"
   ]
  },
  {
   "cell_type": "code",
   "execution_count": 11,
   "metadata": {},
   "outputs": [
    {
     "name": "stdout",
     "output_type": "stream",
     "text": [
      "Bill Gates Microsoft\n",
      "Elon Musk X\n",
      "Mark Zuckerberg Facebook\n"
     ]
    }
   ],
   "source": [
    "for chave, valor in pessoas.items():\n",
    "    print(valor[\"nome\"], valor['empresa'])"
   ]
  },
  {
   "cell_type": "code",
   "execution_count": 13,
   "metadata": {},
   "outputs": [
    {
     "name": "stdout",
     "output_type": "stream",
     "text": [
      "O Bill Gates trabalha na empresa Microsoft\n",
      "O Elon Musk trabalha na empresa X\n",
      "O Mark Zuckerberg trabalha na empresa Facebook\n"
     ]
    }
   ],
   "source": [
    "for chave, valor in pessoas.items():\n",
    "    print(f\"O {valor['nome']} trabalha na empresa {valor['empresa']}\")"
   ]
  },
  {
   "cell_type": "code",
   "execution_count": 14,
   "metadata": {},
   "outputs": [
    {
     "name": "stdout",
     "output_type": "stream",
     "text": [
      "O Bill Gates trabalha na empresa Microsoft\n",
      "O Elon Musk trabalha na empresa X\n",
      "O Mark Zuckerberg trabalha na empresa Facebook\n"
     ]
    }
   ],
   "source": [
    "for _, valor in pessoas.items():\n",
    "    print(f\"O {valor['nome']} trabalha na empresa {valor['empresa']}\")"
   ]
  }
 ],
 "metadata": {
  "kernelspec": {
   "display_name": "base",
   "language": "python",
   "name": "python3"
  },
  "language_info": {
   "codemirror_mode": {
    "name": "ipython",
    "version": 3
   },
   "file_extension": ".py",
   "mimetype": "text/x-python",
   "name": "python",
   "nbconvert_exporter": "python",
   "pygments_lexer": "ipython3",
   "version": "3.10.13"
  }
 },
 "nbformat": 4,
 "nbformat_minor": 2
}
