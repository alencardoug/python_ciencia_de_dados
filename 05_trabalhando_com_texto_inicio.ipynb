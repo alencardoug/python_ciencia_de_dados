{
 "cells": [
  {
   "cell_type": "markdown",
   "id": "d43eda1b-380f-47a0-a61e-8dd1ef6dd628",
   "metadata": {},
   "source": [
    "# Trabalhando com texto - strings"
   ]
  },
  {
   "cell_type": "code",
   "execution_count": null,
   "id": "f1c5d4ba-02e3-43d0-ace8-b55eba725a26",
   "metadata": {},
   "outputs": [],
   "source": []
  }
 ],
 "metadata": {
  "kernelspec": {
   "display_name": "Python 3 (ipykernel)",
   "language": "python",
   "name": "python3"
  },
  "language_info": {
   "codemirror_mode": {
    "name": "ipython",
    "version": 3
   },
   "file_extension": ".py",
   "mimetype": "text/x-python",
   "name": "python",
   "nbconvert_exporter": "python",
   "pygments_lexer": "ipython3",
   "version": "3.10.13"
  }
 },
 "nbformat": 4,
 "nbformat_minor": 5
}
